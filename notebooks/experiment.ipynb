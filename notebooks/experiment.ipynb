{
 "cells": [
  {
   "cell_type": "code",
   "execution_count": 1,
   "metadata": {},
   "outputs": [
    {
     "data": {
      "text/plain": [
       "Index(['movie_name', 'year', 'runtime', 'genre', 'rating', 'description',\n",
       "       'director', 'star', 'votes'],\n",
       "      dtype='object')"
      ]
     },
     "execution_count": 1,
     "metadata": {},
     "output_type": "execute_result"
    }
   ],
   "source": [
    "import pandas as pd\n",
    "\n",
    "df = pd.read_csv(\"../data/movies.csv\")\n",
    "\n",
    "df.columns"
   ]
  },
  {
   "cell_type": "code",
   "execution_count": 3,
   "metadata": {},
   "outputs": [],
   "source": [
    "from sentence_transformers import SentenceTransformer\n",
    "\n",
    "model_name = \"multi-qa-distilbert-cos-v1\"\n",
    "embedding_model = SentenceTransformer(model_name)"
   ]
  },
  {
   "cell_type": "code",
   "execution_count": 4,
   "metadata": {},
   "outputs": [
    {
     "data": {
      "application/vnd.jupyter.widget-view+json": {
       "model_id": "d554301f423d47c69bdf7a3073ec288c",
       "version_major": 2,
       "version_minor": 0
      },
      "text/plain": [
       "Batches:   0%|          | 0/6988 [00:00<?, ?it/s]"
      ]
     },
     "metadata": {},
     "output_type": "display_data"
    }
   ],
   "source": [
    "df[\"name_descr_genre_director_star\"] = df.apply(lambda row: f'{row.movie_name} {row.description} {row.genre} {row.director} {row.star}', axis=1)\n",
    "\n",
    "df[\"name_descr_genre_director_star_vector\"] = embedding_model.encode(df[\"name_descr_genre_director_star\"], show_progress_bar=True, device=\"mps:0\").tolist()\n",
    "\n",
    "df.drop(\"name_descr_genre_director_star\", axis=1, inplace=True)"
   ]
  },
  {
   "cell_type": "code",
   "execution_count": 5,
   "metadata": {},
   "outputs": [
    {
     "data": {
      "application/vnd.jupyter.widget-view+json": {
       "model_id": "ae2e237fbe3a4dc7af27c58ad8c03331",
       "version_major": 2,
       "version_minor": 0
      },
      "text/plain": [
       "Batches:   0%|          | 0/6988 [00:00<?, ?it/s]"
      ]
     },
     "metadata": {},
     "output_type": "display_data"
    },
    {
     "data": {
      "application/vnd.jupyter.widget-view+json": {
       "model_id": "d5fe410581b8403bb499baa877e42f77",
       "version_major": 2,
       "version_minor": 0
      },
      "text/plain": [
       "Batches:   0%|          | 0/6988 [00:00<?, ?it/s]"
      ]
     },
     "metadata": {},
     "output_type": "display_data"
    }
   ],
   "source": [
    "df[\"movie_name_vector\"] = embedding_model.encode(df[\"movie_name\"], show_progress_bar=True, device=\"mps:0\").tolist()\n",
    "df[\"description_vector\"] = embedding_model.encode(df[\"description\"], show_progress_bar=True, device=\"mps:0\").tolist()"
   ]
  },
  {
   "cell_type": "code",
   "execution_count": 10,
   "metadata": {},
   "outputs": [
    {
     "data": {
      "text/plain": [
       "ObjectApiResponse({'acknowledged': True, 'shards_acknowledged': True, 'index': 'movies-database'})"
      ]
     },
     "execution_count": 10,
     "metadata": {},
     "output_type": "execute_result"
    }
   ],
   "source": [
    "from elasticsearch import Elasticsearch\n",
    "\n",
    "es_client = Elasticsearch('http://localhost:9200') \n",
    "\n",
    "index_settings = {\n",
    "    \"settings\": {\n",
    "        \"number_of_shards\": 1,\n",
    "        \"number_of_replicas\": 0\n",
    "    },\n",
    "    \"mappings\": {\n",
    "        \"properties\": {\n",
    "            \"movie_name\": {\"type\": \"text\"},\n",
    "            \"year\": {\"type\": \"text\"},\n",
    "            \"runtime\": {\"type\": \"text\"},\n",
    "            \"genre\": {\"type\": \"text\"},\n",
    "            \"rating\": {\"type\": \"text\"},\n",
    "            \"description\": {\"type\": \"text\"},\n",
    "            \"director\": {\"type\": \"text\"},\n",
    "            \"star\": {\"type\": \"text\"},\n",
    "            \"votes\": {\"type\": \"text\"},\n",
    "            \"id\": {\"type\": \"keyword\"},\n",
    "            \"movie_name_vector\": {\n",
    "                \"type\": \"dense_vector\",\n",
    "                \"dims\": 768,\n",
    "                \"index\": True,\n",
    "                \"similarity\": \"cosine\"\n",
    "            },\n",
    "            \"description_vector\": {\n",
    "                \"type\": \"dense_vector\",\n",
    "                \"dims\": 768,\n",
    "                \"index\": True,\n",
    "                \"similarity\": \"cosine\"\n",
    "            },\n",
    "            \"name_descr_genre_director_star_vector\": {\n",
    "                \"type\": \"dense_vector\",\n",
    "                \"dims\": 768,\n",
    "                \"index\": True,\n",
    "                \"similarity\": \"cosine\"\n",
    "            },\n",
    "        }\n",
    "    }\n",
    "}\n",
    "\n",
    "index_name = \"movies-database\"\n",
    "\n",
    "es_client.indices.delete(index=index_name, ignore_unavailable=True)\n",
    "es_client.indices.create(index=index_name, body=index_settings)"
   ]
  },
  {
   "cell_type": "code",
   "execution_count": 11,
   "metadata": {},
   "outputs": [
    {
     "name": "stderr",
     "output_type": "stream",
     "text": [
      "100%|██████████| 223589/223589 [17:18<00:00, 215.21it/s]\n"
     ]
    }
   ],
   "source": [
    "from tqdm import tqdm\n",
    "\n",
    "for i, doc in tqdm(df.iterrows(), total=len(df)):\n",
    "    es_client.index(index=index_name, document=doc.to_json())"
   ]
  },
  {
   "cell_type": "code",
   "execution_count": 47,
   "metadata": {},
   "outputs": [],
   "source": [
    "def elastic_search_knn(question, vector, num_results):\n",
    "    knn = {\n",
    "        \"field\": \"name_descr_genre_director_star_vector\",\n",
    "        \"query_vector\": vector,\n",
    "        \"k\": num_results,\n",
    "        \"num_candidates\": 10000,\n",
    "    }\n",
    "\n",
    "    search_query = {\n",
    "        \"knn\": knn,\n",
    "        \"_source\": ['movie_name', 'year', 'runtime', 'genre', 'rating',\n",
    "            'description', 'director', 'star', 'votes', 'id']\n",
    "    }\n",
    "\n",
    "    es_results = es_client.search(\n",
    "        index=index_name,\n",
    "        body=search_query,\n",
    "    )\n",
    "    \n",
    "    result_docs = []\n",
    "    \n",
    "    for hit in es_results['hits']['hits']:\n",
    "        result_docs.append(hit['_source'])\n",
    "        result_docs[-1]['score'] = hit['_score']\n",
    "\n",
    "\n",
    "    return result_docs"
   ]
  },
  {
   "cell_type": "code",
   "execution_count": 162,
   "metadata": {},
   "outputs": [
    {
     "name": "stdout",
     "output_type": "stream",
     "text": [
      "Avatar 4\n",
      "Avatar 5\n",
      "Avatar\n",
      "Avatar 3\n",
      "Rifftrax: Avatar\n",
      "Untitled Avatar: The Last Airbender Film 1\n",
      "Avatara Purusha: Part 1\n",
      "Xbox Avatar Fun\n",
      "Digimon: The Movie\n",
      "Zoo Wars 2\n"
     ]
    }
   ],
   "source": [
    "question = \"How many Avatar movies they are and what are they about?\"\n",
    "question_vector = embedding_model.encode(question)\n",
    "for doc in elastic_search_knn(question, question_vector, 10):\n",
    "    print(doc[\"movie_name\"])"
   ]
  },
  {
   "cell_type": "code",
   "execution_count": 14,
   "metadata": {},
   "outputs": [],
   "source": [
    "prompt = \"\"\"\n",
    "You are a movie recommendation assistant. You must answer the QUESTION based on the CONTEXT. If you cannot find the answer to the question, just say \"I don't know\", don't try to make up an answer. Do not make up an answer if you cannot find the answer to the question. Don't mention the source of the information. Avoid using the words context and dataset.\n",
    "\n",
    "QUESTION:\n",
    "{question}\n",
    "\n",
    "CONTEXT: \n",
    "{context}\n",
    "\"\"\""
   ]
  },
  {
   "cell_type": "code",
   "execution_count": 48,
   "metadata": {},
   "outputs": [],
   "source": [
    "def get_reponse_openai(client, model_name, search_func):\n",
    "    res = client.chat.completions.create(\n",
    "        model=model_name,\n",
    "        messages=[{\"role\": \"user\", \"content\": prompt.format(\n",
    "            question=question,\n",
    "            context = search_func(question, question_vector, 10))}],\n",
    "    )\n",
    "    print(res.choices[0].message.content)"
   ]
  },
  {
   "cell_type": "code",
   "execution_count": 17,
   "metadata": {},
   "outputs": [
    {
     "name": "stdout",
     "output_type": "stream",
     "text": [
      "There are multiple movies with the title \"Avatar\" in them, but I will provide an answer based on the question and context.\n",
      "\n",
      "To answer your question: There are four Avatar movies mentioned in the provided list:\n",
      "\n",
      "1. The original movie \"Avatar\" (2009) - a sci-fi epic directed by James Cameron.\n",
      "2. \"Avatar 3\" (2024) - a sequel to \"Avatar: The Way of Water\", with the plot unknown.\n",
      "3. \"Avatar 4\" (2026) - described as a sequel to \"Avatar 3\" and also with an unknown plot, and presumably third installment in a planned trilogy of sequels for the 2009 original film.\n",
      "4. Although not explicitly called “Avatar 5” there is mention of a last movie of the saga and therefore it can be assumed that there will indeed be one more Avatar movie after Avatar 4:\n"
     ]
    }
   ],
   "source": [
    "from openai import OpenAI\n",
    "\n",
    "client_llama = OpenAI(\n",
    "    base_url=\"http://localhost:11434/v1/\",\n",
    "    api_key=\"ollama\"\n",
    ")\n",
    "\n",
    "get_reponse_openai(client_llama, \"llama3.1\", elastic_search_knn)"
   ]
  },
  {
   "cell_type": "code",
   "execution_count": 19,
   "metadata": {},
   "outputs": [],
   "source": [
    "gpt_client = OpenAI()"
   ]
  },
  {
   "cell_type": "code",
   "execution_count": 20,
   "metadata": {},
   "outputs": [
    {
     "name": "stdout",
     "output_type": "stream",
     "text": [
      "There are currently five Avatar movies:\n",
      "\n",
      "1. **Avatar (2009)**: This film introduces the world of Pandora, where a paraplegic Marine is dispatched on a unique mission and finds himself torn between following his orders and protecting the world that feels like home.\n",
      "\n",
      "2. **Avatar: The Way of Water (2022)**: Although not mentioned in the provided information, this is the known sequel to the first Avatar movie.\n",
      "\n",
      "3. **Avatar 3 (2024)**: This film is the sequel to Avatar: The Way of Water. The specific plot details are unknown.\n",
      "\n",
      "4. **Avatar 4 (2026)**: This film continues the story from Avatar 3. The plot is unknown.\n",
      "\n",
      "5. **Avatar 5 (2028)**: This film is the sequel to Avatar 4 and is projected to be the last movie in the Avatar saga. The plot is unknown.\n"
     ]
    }
   ],
   "source": [
    "get_reponse_openai(gpt_client, \"gpt-4o\", elastic_search_knn)"
   ]
  },
  {
   "cell_type": "code",
   "execution_count": 49,
   "metadata": {},
   "outputs": [
    {
     "name": "stdout",
     "output_type": "stream",
     "text": [
      "There are five Avatar movies planned. \n",
      "\n",
      "1. **Avatar (2009)** - A paraplegic Marine is dispatched to the moon Pandora on a unique mission, where he becomes torn between following his orders and protecting the world he feels is his home.\n",
      "\n",
      "2. **Avatar: The Way of Water (2022)** - The plot details are not provided in the context.\n",
      "\n",
      "3. **Avatar 3 (2024)** - This is a sequel to Avatar: The Way of Water, but the plot is unknown.\n",
      "\n",
      "4. **Avatar 4 (2026)** - A sequel to Avatar 3, with the plot also unknown.\n",
      "\n",
      "5. **Avatar 5 (2028)** - The final movie of the Avatar saga and a sequel to Avatar 4, with the plot not revealed.\n",
      "\n",
      "The first film is the only one with a specific plot description available. The subsequent films have their plots unknown.\n"
     ]
    }
   ],
   "source": [
    "get_reponse_openai(gpt_client, \"gpt-4o-mini\", elastic_search_knn)"
   ]
  },
  {
   "cell_type": "markdown",
   "metadata": {},
   "source": [
    "## Github Models\n",
    "\n",
    "I've gained recently access to models hosted by Github in their beta of Github Models. Let's see how selected models will behave.\n",
    "A link to the models list: https://github.com/marketplace/models"
   ]
  },
  {
   "cell_type": "code",
   "execution_count": 50,
   "metadata": {},
   "outputs": [],
   "source": [
    "import os\n",
    "from azure.ai.inference import ChatCompletionsClient\n",
    "from azure.ai.inference.models import SystemMessage, UserMessage\n",
    "from azure.core.credentials import AzureKeyCredential\n",
    "\n",
    "endpoint = \"https://models.inference.ai.azure.com\"\n",
    "token = os.environ[\"GITHUB_TOKEN\"]\n",
    "\n",
    "client = ChatCompletionsClient(\n",
    "    endpoint=endpoint,\n",
    "    credential=AzureKeyCredential(token),\n",
    ")\n",
    "\n",
    "def get_response_azure_github(model_name, search_func):\n",
    "    response = client.complete(\n",
    "        messages=[\n",
    "            UserMessage(content=prompt.format(\n",
    "            question=question,\n",
    "            context = search_func(question, question_vector, 10)),),\n",
    "        ],\n",
    "        model=model_name,\n",
    "        temperature=1.0,\n",
    "        max_tokens=1000,\n",
    "        top_p=1.0\n",
    "    )   \n",
    "    print(response.choices[0].message.content)"
   ]
  },
  {
   "cell_type": "code",
   "execution_count": 32,
   "metadata": {},
   "outputs": [
    {
     "name": "stdout",
     "output_type": "stream",
     "text": [
      "There are 5 Avatar movies directed by James Cameron: \n",
      "\n",
      "1. Avatar (2009) - A paraplegic Marine dispatched to the moon Pandora on a unique mission becomes torn between following his orders and protecting the world he feels is his home.\n",
      "2. Avatar 3 (2024) - The plot is unknown, but it is a sequel to Avatar: The Way of Water (2022).\n",
      "3. Avatar 4 (2026) - The plot is unknown, but it is a sequel to Avatar 3 (2024).\n",
      "4. Avatar 5 (2028) - The plot is unknown, but it is a sequel to Avatar 4 (2026) and the last movie of the \"Avatar\" saga.\n",
      "\n",
      "Note: Avatar: The Way of Water (2022) is mentioned as a predecessor to Avatar 3, but it is not included in the provided data.\n"
     ]
    }
   ],
   "source": [
    "model_name = \"meta-llama-3.1-405b-instruct\"\n",
    "\n",
    "get_response_azure_github(model_name, elastic_search_knn)"
   ]
  },
  {
   "cell_type": "code",
   "execution_count": 33,
   "metadata": {},
   "outputs": [
    {
     "name": "stdout",
     "output_type": "stream",
     "text": [
      "There are five Avatar movies. Here's a brief description of each:\n",
      "\n",
      "1. Avatar (2009) - A paraplegic Marine becomes torn between following orders and protecting the world he feels is his home on the moon Pandora.\n",
      "\n",
      "2. Avatar: The Way of Water (2022) - No plot description available.\n",
      "\n",
      "3. Avatar 3 (2024) - No plot description available.\n",
      "\n",
      "4. Avatar 4 (2026) - No plot description available.\n",
      "\n",
      "5. Avatar 5 (2028) - No plot description available. It's also the last movie in the \"Avatar\" saga.\n"
     ]
    }
   ],
   "source": [
    "model_name = \"meta-llama-3.1-70b-instruct\"\n",
    "\n",
    "get_response_azure_github(model_name, elastic_search_knn)"
   ]
  },
  {
   "cell_type": "code",
   "execution_count": 34,
   "metadata": {},
   "outputs": [
    {
     "name": "stdout",
     "output_type": "stream",
     "text": [
      "There are two Avatar movies:\n",
      "1. \"Avatar\" (2009): A paraplegic Marine dispatched to the moon Pandora on a unique mission becomes torn between following his orders and protecting the world he feels is his home. Rated 7.9.\n",
      "2. \"Avatar: The Way of Water\" (2022):Unknown; sequel to the first Avatar\n"
     ]
    }
   ],
   "source": [
    "model_name = \"Mistral-nemo\"\n",
    "\n",
    "get_response_azure_github(model_name, elastic_search_knn)"
   ]
  },
  {
   "cell_type": "code",
   "execution_count": 35,
   "metadata": {},
   "outputs": [
    {
     "name": "stdout",
     "output_type": "stream",
     "text": [
      "There are four Avatar movies in the context provided, although not all of them have been released yet. Here's a brief overview:\n",
      "\n",
      "1. \"Avatar\" (2009): This is the first movie in the series. It's about a paraplegic Marine who is dispatched to the moon Pandora on a unique mission. He becomes torn between following his orders and protecting the world he feels is his home.\n",
      "\n",
      "2. \"Avatar 3\" (2024): This is a sequel to \"Avatar: The Way of Water\" (which isn't detailed in the context). The plot for \"Avatar 3\" is currently unknown.\n",
      "\n",
      "3. \"Avatar 4\" (2026): This is a sequel to \"Avatar 3\". The plot is also unknown.\n",
      "\n",
      "4. \"Avatar 5\" (2028): This is the final movie in the \"Avatar\" saga and a sequel to \"Avatar 4\". The plot is yet to be revealed.\n",
      "\n",
      "While there are other movies with \"Avatar\" in the title, they are not part of this series.\n"
     ]
    }
   ],
   "source": [
    "model_name = \"Mistral-large\"\n",
    "\n",
    "get_response_azure_github(model_name, elastic_search_knn)"
   ]
  },
  {
   "cell_type": "code",
   "execution_count": 36,
   "metadata": {},
   "outputs": [
    {
     "name": "stdout",
     "output_type": "stream",
     "text": [
      "There are 5 \"Avatar\" movies in the series directed by James Cameron:\n",
      "\n",
      "1. **Avatar (2009):** A paraplegic Marine dispatched to the moon Pandora on a unique mission becomes torn between following his orders and protecting the world he feels is his home.\n",
      "2. **Avatar 3 (2024):** Sequel of Avatar: The Way of Water (2022). The plot is unknown.\n",
      "3. **Avatar 4 (2026):** Sequel of Avatar 3 (2024). The plot is unknown.\n",
      "4. **Avatar 5 (2028):** Sequel of Avatar 4 (2026) and last movie of the \"Avatar\" saga. The plot is unknown.\n",
      "\n",
      "Note: \"Avatar: The Way of Water\" (2022) is mentioned as the sequel to the original \"Avatar\" (2009), but its details are not provided in the list.\n"
     ]
    }
   ],
   "source": [
    "model_name = \"Mistral-large-2407\"\n",
    "\n",
    "get_response_azure_github(model_name, elastic_search_knn)"
   ]
  },
  {
   "cell_type": "code",
   "execution_count": 37,
   "metadata": {},
   "outputs": [
    {
     "name": "stdout",
     "output_type": "stream",
     "text": [
      " There are five Avatar movies. Avatar (2009) is about a paraplegic Marine who is torn between his orders and protecting a world he considers home. Avatar: The Way of Water (not listed explicitly but can be inferred was released in 2022) is a sequel of the lot which follows the events set up in the first movie. Avatar 3 (2024) is another sequel following the plot from the previous films. Avatar 4 (2026) and Avatar 5 (2028) are sequels as well, with the plot for each being unknown at this time.\n"
     ]
    }
   ],
   "source": [
    "model_name = \"Phi-3-medium-128k-instruct\"\n",
    "\n",
    "get_response_azure_github(model_name, elastic_search_knn)"
   ]
  },
  {
   "cell_type": "markdown",
   "metadata": {},
   "source": [
    "### Conclusion\n",
    "\n",
    "We can see that the best behaving and cheapest model is GPT 4o-mini. Let's stick to it.\n",
    "llama3.1:8b is pretty poor, although totally free and run via ollama. We can see that llama3.1:70b is much better but, for reproducibility sake, and given that Github Models are in closed beta."
   ]
  },
  {
   "cell_type": "markdown",
   "metadata": {},
   "source": [
    "## Rephrase question\n",
    "\n",
    "Let's try to change the query that we are searching with elastic search. We could optimize it. Let's use gpt 4o-mini for this."
   ]
  },
  {
   "cell_type": "code",
   "execution_count": 119,
   "metadata": {},
   "outputs": [],
   "source": [
    "def rephrase_query(question):\n",
    "    query = f\"\"\"\n",
    "        Given a QUESTION, extract one or more words from the QUESTION that can indicate one or more of \n",
    "        following fields: movie_name, year, runtime, genre, rating, description,\n",
    "        director, star, votes.\n",
    "        Output the extracted words separated by a space.\n",
    "\n",
    "        QUESTION\n",
    "        {question}\n",
    "    \"\"\"\n",
    "    res = gpt_client.chat.completions.create(\n",
    "        model=\"gpt-4o-mini\",\n",
    "        messages=[{\"role\": \"user\", \"content\": query}],\n",
    "    )\n",
    "    return res.choices[0].message.content"
   ]
  },
  {
   "cell_type": "code",
   "execution_count": 120,
   "metadata": {},
   "outputs": [],
   "source": [
    "rephrased_question = rephrase_query(question)\n",
    "\n",
    "rephrased_question_vector = embedding_model.encode(rephrased_question)"
   ]
  },
  {
   "cell_type": "code",
   "execution_count": 124,
   "metadata": {},
   "outputs": [
    {
     "name": "stdout",
     "output_type": "stream",
     "text": [
      "Avatar\n",
      "Avatar\n",
      "The Avatar Project\n",
      "Avatar 4\n",
      "Xbox Avatar Fun\n",
      "Rifftrax: Avatar\n",
      "Untitled Avatar: The Last Airbender Film 1\n",
      "Avatar 3\n",
      "Avatar 5\n",
      "The King's Avatar: For the Glory\n"
     ]
    }
   ],
   "source": [
    "for doc in elastic_search_knn(rephrased_question, rephrased_question_vector, 10):\n",
    "    print(doc[\"movie_name\"])"
   ]
  },
  {
   "cell_type": "code",
   "execution_count": 188,
   "metadata": {},
   "outputs": [],
   "source": [
    "def get_reponse_gpt4omini(question, search_func, num_results=10):\n",
    "    rephrased_question = rephrase_query(question)\n",
    "    rephrased_question_vector = embedding_model.encode(rephrased_question)\n",
    "    res = gpt_client.chat.completions.create(\n",
    "        model=\"gpt-4o-mini\",\n",
    "        messages=[{\"role\": \"user\", \"content\": prompt.format(\n",
    "            question=question,\n",
    "            context = search_func(rephrased_question, rephrased_question_vector, num_results))}]\n",
    "    )\n",
    "    print(res.choices[0].message.content)"
   ]
  },
  {
   "cell_type": "code",
   "execution_count": 130,
   "metadata": {},
   "outputs": [
    {
     "name": "stdout",
     "output_type": "stream",
     "text": [
      "There are multiple Avatar movies, specifically:\n",
      "\n",
      "1. **Avatar (2009)** - A paraplegic Marine dispatched to the moon Pandora on a unique mission becomes torn between following his orders and protecting the world he feels is his home.\n",
      "\n",
      "2. **Avatar 3 (2024)** - Sequel of Avatar: The Way of Water (2022). The plot is unknown.\n",
      "\n",
      "3. **Avatar 4 (2026)** - Sequel of Avatar 3. The plot is unknown.\n",
      "\n",
      "4. **Avatar 5 (2028)** - Sequel of Avatar 4 and the last movie of the \"Avatar\" saga. The plot is unknown.\n",
      "\n",
      "In total, there are four known films in the series, with the plots of the later three films not specified.\n"
     ]
    }
   ],
   "source": [
    "get_reponse_gpt4omini(question, elastic_search_knn)"
   ]
  },
  {
   "cell_type": "markdown",
   "metadata": {},
   "source": [
    "Given the search results, the output is a bit better, however still lacks Avatar 2 entry. Let's experiment further with elastic search to check if we can get it to appear."
   ]
  },
  {
   "cell_type": "code",
   "execution_count": 131,
   "metadata": {},
   "outputs": [],
   "source": [
    "def elastic_search_knn_more_vectors(question, vector, num_results):\n",
    "    knn = [\n",
    "        {\n",
    "            \"field\": \"name_descr_genre_director_star_vector\",\n",
    "            \"query_vector\": vector,\n",
    "            \"k\": num_results,\n",
    "            \"num_candidates\": 10000,\n",
    "            \"boost\": 0.9\n",
    "        },\n",
    "        {\n",
    "            \"field\": \"movie_name_vector\",\n",
    "            \"query_vector\": vector,\n",
    "            \"k\": num_results,\n",
    "            \"num_candidates\": 10000,\n",
    "            \"boost\": 0.9\n",
    "        },\n",
    "        {\n",
    "            \"field\": \"description_vector\",\n",
    "            \"query_vector\": vector,\n",
    "            \"k\": num_results,\n",
    "            \"num_candidates\": 10000,\n",
    "            \"boost\": 0.9\n",
    "        }\n",
    "    ]\n",
    "\n",
    "    search_body = {\n",
    "        \"knn\": knn,\n",
    "        \"_source\": [\n",
    "            'movie_name', 'year', 'runtime', 'genre', 'rating',\n",
    "            'description', 'director', 'star', 'votes', 'id'\n",
    "        ]\n",
    "    }\n",
    "\n",
    "    es_results = es_client.search(\n",
    "        index=index_name,\n",
    "        body=search_body\n",
    "    )\n",
    "\n",
    "    result_docs = []\n",
    "\n",
    "    for hit in es_results['hits']['hits']:\n",
    "        result_docs.append(hit['_source'])\n",
    "        result_docs[-1]['score'] = hit['_score']\n",
    "\n",
    "    return result_docs"
   ]
  },
  {
   "cell_type": "code",
   "execution_count": 133,
   "metadata": {},
   "outputs": [
    {
     "name": "stdout",
     "output_type": "stream",
     "text": [
      "Avatar\n",
      "Avatar\n",
      "Avatar 4\n",
      "The Avatar Project\n",
      "Avatar 5\n",
      "Avatar 3\n",
      "Rifftrax: Avatar\n",
      "Xbox Avatar Fun\n",
      "Avatar\n",
      "Avataran\n"
     ]
    }
   ],
   "source": [
    "for doc in elastic_search_knn_more_vectors(rephrased_question, rephrased_question_vector, 10):\n",
    "    print(doc[\"movie_name\"])"
   ]
  },
  {
   "cell_type": "code",
   "execution_count": 132,
   "metadata": {},
   "outputs": [
    {
     "name": "stdout",
     "output_type": "stream",
     "text": [
      "There are four main Avatar movies. \n",
      "\n",
      "1. **Avatar (2009)** - A paraplegic Marine is sent to the moon Pandora on a mission but finds himself torn between his orders and protecting the world he feels is his home.\n",
      "\n",
      "2. **Avatar: The Way of Water (2022)** - Not detailed in the provided context, but it's a sequel to the original Avatar.\n",
      "\n",
      "3. **Avatar 3 (2024)** - A sequel to \"Avatar: The Way of Water\" with an unknown plot.\n",
      "\n",
      "4. **Avatar 4 (2026)** - A sequel to \"Avatar 3\" with an unknown plot.\n",
      "\n",
      "5. **Avatar 5 (2028)** - The last movie of the \"Avatar\" saga, also with an unknown plot.\n",
      "\n",
      "Additionally, there are other films with the title Avatar, but they are not part of the main series.\n"
     ]
    }
   ],
   "source": [
    "get_reponse_gpt4omini(question, elastic_search_knn_more_vectors)"
   ]
  },
  {
   "cell_type": "code",
   "execution_count": 167,
   "metadata": {},
   "outputs": [],
   "source": [
    "def elastic_search_knn_query(question, vector, num_results):\n",
    "    knn = {\n",
    "        \"field\": \"name_descr_genre_director_star_vector\",\n",
    "        \"query_vector\": vector,\n",
    "        \"k\": 60,\n",
    "        \"num_candidates\": 10000,\n",
    "        \"boost\": 0.5\n",
    "    }\n",
    "\n",
    "    keyword_query = {\n",
    "        \"bool\": {\n",
    "            \"must\": {\n",
    "                \"multi_match\": {\n",
    "                    \"query\": question,\n",
    "                    \"fields\": ['movie_name', 'description', 'director', 'star', 'year', 'runtime', 'genre', 'rating'],\n",
    "                    \"type\": \"best_fields\",\n",
    "                    \"boost\": 0.7,\n",
    "                }\n",
    "            }\n",
    "        }\n",
    "    }\n",
    "\n",
    "    search_query = {\n",
    "        \"knn\": knn,\n",
    "        \"query\": keyword_query,\n",
    "        \"_source\": ['movie_name', 'year', 'runtime', 'genre', 'rating',\n",
    "            'description', 'director', 'star', 'votes', 'id']\n",
    "    }\n",
    "\n",
    "    es_results = es_client.search(\n",
    "        index=index_name,\n",
    "        body=search_query,\n",
    "    )\n",
    "    \n",
    "    result_docs = []\n",
    "    \n",
    "    for hit in es_results['hits']['hits'][:num_results]:\n",
    "        result_docs.append(hit['_source'])\n",
    "        result_docs[-1]['score'] = hit['_score']\n",
    "\n",
    "\n",
    "    return result_docs"
   ]
  },
  {
   "cell_type": "code",
   "execution_count": 170,
   "metadata": {},
   "outputs": [
    {
     "name": "stdout",
     "output_type": "stream",
     "text": [
      "Avatar 5\n",
      "Avatar\n",
      "Avatar\n",
      "Avatar 4\n",
      "Avatar\n",
      "Avatar 3\n",
      "Rifftrax: Avatar\n",
      "Three Tutus and a Gun\n",
      "Sita Swayamvar\n",
      "A Perfect World\n"
     ]
    }
   ],
   "source": [
    "for res in elastic_search_knn_query(rephrased_question, rephrased_question_vector, 10):\n",
    "    print(res[\"movie_name\"])"
   ]
  },
  {
   "cell_type": "code",
   "execution_count": 144,
   "metadata": {},
   "outputs": [
    {
     "name": "stdout",
     "output_type": "stream",
     "text": [
      "There are five Avatar movies planned:\n",
      "\n",
      "1. **Avatar (2009)**: This film follows a paraplegic Marine who is dispatched to the moon Pandora on a unique mission. He becomes torn between following his orders and protecting the world he feels is his home.\n",
      "\n",
      "2. **Avatar: The Way of Water (2022)**: The plot details are not provided in the context.\n",
      "\n",
      "3. **Avatar 3 (2024)**: This is a sequel to *Avatar: The Way of Water*, but the plot is unknown.\n",
      "\n",
      "4. **Avatar 4 (2026)**: This is a sequel to *Avatar 3*, and the plot is also unknown.\n",
      "\n",
      "5. **Avatar 5 (2028)**: This movie is the sequel to *Avatar 4* and is described as the last film of the \"Avatar\" saga, with the plot currently unknown.\n",
      "\n",
      "Additionally, there are other films titled \"Avatar\" from different years, but they are not part of the main Avatar saga.\n"
     ]
    }
   ],
   "source": [
    "get_reponse_gpt4omini(question, elastic_search_knn_query)"
   ]
  },
  {
   "cell_type": "code",
   "execution_count": 176,
   "metadata": {},
   "outputs": [],
   "source": [
    "def compute_rrf(rank, k):\n",
    "    \"\"\" Our own implementation of the relevance score \"\"\"\n",
    "    return 1 / (k + rank)\n",
    "\n",
    "def elastic_search_hybrid_rrf(query, vector, num_results):\n",
    "    k=600\n",
    "    knn_query = {\n",
    "        \"field\": \"name_descr_genre_director_star_vector\",\n",
    "        \"query_vector\": vector,\n",
    "        \"k\": 60,\n",
    "        \"num_candidates\": 10000,\n",
    "        \"boost\": 0.7,\n",
    "    }\n",
    "\n",
    "    keyword_query = {\n",
    "        \"bool\": {\n",
    "            \"must\": {\n",
    "                \"multi_match\": {\n",
    "                    \"query\": query,\n",
    "                    \"fields\": ['movie_name', 'description', 'director', 'star', 'year', 'runtime', 'genre', 'rating'],\n",
    "                    \"type\": \"best_fields\",\n",
    "                    \"boost\": 0.5,\n",
    "                }\n",
    "            }\n",
    "        }\n",
    "    }\n",
    "\n",
    "    knn_results = es_client.search(\n",
    "        index=index_name, \n",
    "        body={\n",
    "            \"knn\": knn_query, \n",
    "            \"size\": 10\n",
    "        }\n",
    "    )['hits']['hits']\n",
    "    \n",
    "    keyword_results = es_client.search(\n",
    "        index=index_name, \n",
    "        body={\n",
    "            \"query\": keyword_query, \n",
    "            \"size\": 10\n",
    "        }\n",
    "    )['hits']['hits']\n",
    "    \n",
    "    rrf_scores = {}\n",
    "    # Calculate RRF using vector search results\n",
    "    for rank, hit in enumerate(knn_results):\n",
    "        doc_id = hit['_id']\n",
    "        rrf_scores[doc_id] = compute_rrf(rank + 1, k)\n",
    "\n",
    "    # Adding keyword search result scores\n",
    "    for rank, hit in enumerate(keyword_results):\n",
    "        doc_id = hit['_id']\n",
    "        if doc_id in rrf_scores:\n",
    "            rrf_scores[doc_id] += compute_rrf(rank + 1, k)\n",
    "        else:\n",
    "            rrf_scores[doc_id] = compute_rrf(rank + 1, k)\n",
    "\n",
    "    # Sort RRF scores in descending order\n",
    "    reranked_docs = sorted(rrf_scores.items(), key=lambda x: x[1], reverse=True)\n",
    "    \n",
    "    # Get top-K documents by the score\n",
    "    final_results = []\n",
    "    for doc_id, score in reranked_docs[:num_results]:\n",
    "        doc = es_client.get(index=index_name, id=doc_id)\n",
    "        final_results.append(doc['_source'])\n",
    "    \n",
    "    return final_results"
   ]
  },
  {
   "cell_type": "code",
   "execution_count": 191,
   "metadata": {},
   "outputs": [
    {
     "name": "stdout",
     "output_type": "stream",
     "text": [
      "Avatar\n",
      "Avatar\n",
      "Avatar 4\n",
      "Avatar 5\n",
      "Rifftrax: Avatar\n",
      "Avatar 3\n"
     ]
    }
   ],
   "source": [
    "for res in elastic_search_hybrid_rrf(rephrased_question, rephrased_question_vector, 6):\n",
    "    print(res[\"movie_name\"])"
   ]
  },
  {
   "cell_type": "code",
   "execution_count": 192,
   "metadata": {},
   "outputs": [
    {
     "name": "stdout",
     "output_type": "stream",
     "text": [
      "There are four \"Avatar\" movies to date:\n",
      "\n",
      "1. **Avatar (2009)** - This is the original movie where a paraplegic Marine, Jake Sully, is sent to the moon Pandora on a unique mission. As he becomes emotionally attached to the world and its people, he is torn between following his orders and protecting the native Na'vi people.\n",
      "\n",
      "2. **Avatar: The Way of Water (2022)** - The sequel explores new environments and the struggle of the Sully family, as well as the challenges they face from external threats.\n",
      "\n",
      "3. **Avatar 3 (2024)** - This sequel continues the saga but the plot details are currently unknown.\n",
      "\n",
      "4. **Avatar 4 (2026)** - This film is a sequel to Avatar 3, and its plot details are still unknown.\n",
      "\n",
      "Additionally, there are plans for a fifth installment, **Avatar 5 (2028)**, which will be the final movie in the series, but specific details about its plot have not been disclosed yet.\n"
     ]
    }
   ],
   "source": [
    "get_reponse_gpt4omini(question, elastic_search_hybrid_rrf, 6)"
   ]
  }
 ],
 "metadata": {
  "kernelspec": {
   "display_name": "base",
   "language": "python",
   "name": "python3"
  },
  "language_info": {
   "codemirror_mode": {
    "name": "ipython",
    "version": 3
   },
   "file_extension": ".py",
   "mimetype": "text/x-python",
   "name": "python",
   "nbconvert_exporter": "python",
   "pygments_lexer": "ipython3",
   "version": "3.9.4"
  }
 },
 "nbformat": 4,
 "nbformat_minor": 2
}
