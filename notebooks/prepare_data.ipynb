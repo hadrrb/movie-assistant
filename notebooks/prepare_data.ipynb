{
 "cells": [
  {
   "cell_type": "code",
   "execution_count": 6,
   "metadata": {},
   "outputs": [],
   "source": [
    "import pandas as pd\n",
    "import glob"
   ]
  },
  {
   "cell_type": "code",
   "execution_count": 4,
   "metadata": {},
   "outputs": [
    {
     "name": "stdout",
     "output_type": "stream",
     "text": [
      "Dataset URL: https://www.kaggle.com/datasets/rajugc/imdb-movies-dataset-based-on-genre\n",
      "License(s): CC-BY-NC-SA-4.0\n",
      "Downloading imdb-movies-dataset-based-on-genre.zip to temp\n",
      " 97%|█████████████████████████████████████ | 52.0M/53.4M [00:05<00:00, 14.0MB/s]\n",
      "100%|██████████████████████████████████████| 53.4M/53.4M [00:05<00:00, 10.6MB/s]\n"
     ]
    }
   ],
   "source": [
    "!kaggle datasets download rajugc/imdb-movies-dataset-based-on-genre -p temp/ --unzip"
   ]
  },
  {
   "cell_type": "code",
   "execution_count": 8,
   "metadata": {},
   "outputs": [],
   "source": [
    "df = pd.concat((pd.read_csv(file) for file in glob.glob(\"temp/*.csv\")), ignore_index=True)"
   ]
  },
  {
   "cell_type": "code",
   "execution_count": 9,
   "metadata": {},
   "outputs": [
    {
     "name": "stdout",
     "output_type": "stream",
     "text": [
      "<class 'pandas.core.frame.DataFrame'>\n",
      "RangeIndex: 368300 entries, 0 to 368299\n",
      "Data columns (total 14 columns):\n",
      " #   Column       Non-Null Count   Dtype  \n",
      "---  ------       --------------   -----  \n",
      " 0   movie_id     368300 non-null  object \n",
      " 1   movie_name   368296 non-null  object \n",
      " 2   year         315052 non-null  object \n",
      " 3   certificate  104191 non-null  object \n",
      " 4   runtime      259146 non-null  object \n",
      " 5   genre        368300 non-null  object \n",
      " 6   rating       230938 non-null  float64\n",
      " 7   description  368300 non-null  object \n",
      " 8   director     340931 non-null  object \n",
      " 9   director_id  340931 non-null  object \n",
      " 10  star         309605 non-null  object \n",
      " 11  star_id      316442 non-null  object \n",
      " 12  votes        230942 non-null  float64\n",
      " 13  gross(in $)  25039 non-null   float64\n",
      "dtypes: float64(3), object(11)\n",
      "memory usage: 39.3+ MB\n"
     ]
    }
   ],
   "source": [
    "df.info()"
   ]
  },
  {
   "cell_type": "code",
   "execution_count": 10,
   "metadata": {},
   "outputs": [
    {
     "name": "stdout",
     "output_type": "stream",
     "text": [
      "<class 'pandas.core.frame.DataFrame'>\n",
      "RangeIndex: 368300 entries, 0 to 368299\n",
      "Data columns (total 14 columns):\n",
      " #   Column       Non-Null Count   Dtype  \n",
      "---  ------       --------------   -----  \n",
      " 0   movie_id     368300 non-null  object \n",
      " 1   movie_name   368296 non-null  object \n",
      " 2   year         315052 non-null  object \n",
      " 3   certificate  104191 non-null  object \n",
      " 4   runtime      259146 non-null  object \n",
      " 5   genre        368300 non-null  object \n",
      " 6   rating       230938 non-null  float64\n",
      " 7   description  368300 non-null  object \n",
      " 8   director     340931 non-null  object \n",
      " 9   director_id  340931 non-null  object \n",
      " 10  star         309605 non-null  object \n",
      " 11  star_id      316442 non-null  object \n",
      " 12  votes        230942 non-null  float64\n",
      " 13  gross(in $)  25039 non-null   float64\n",
      "dtypes: float64(3), object(11)\n",
      "memory usage: 39.3+ MB\n"
     ]
    }
   ],
   "source": [
    "df.info()"
   ]
  },
  {
   "cell_type": "code",
   "execution_count": 11,
   "metadata": {},
   "outputs": [],
   "source": [
    "df.drop(columns=['movie_id', 'director_id', 'star_id'], inplace=True)"
   ]
  },
  {
   "cell_type": "code",
   "execution_count": 16,
   "metadata": {},
   "outputs": [
    {
     "name": "stdout",
     "output_type": "stream",
     "text": [
      "<class 'pandas.core.frame.DataFrame'>\n",
      "Index: 257101 entries, 0 to 368299\n",
      "Data columns (total 11 columns):\n",
      " #   Column       Non-Null Count   Dtype  \n",
      "---  ------       --------------   -----  \n",
      " 0   movie_name   257099 non-null  object \n",
      " 1   year         217905 non-null  object \n",
      " 2   certificate  62958 non-null   object \n",
      " 3   runtime      173034 non-null  object \n",
      " 4   genre        257101 non-null  object \n",
      " 5   rating       151942 non-null  float64\n",
      " 6   description  257101 non-null  object \n",
      " 7   director     236247 non-null  object \n",
      " 8   star         212609 non-null  object \n",
      " 9   votes        151944 non-null  float64\n",
      " 10  gross(in $)  15221 non-null   float64\n",
      "dtypes: float64(3), object(8)\n",
      "memory usage: 23.5+ MB\n"
     ]
    }
   ],
   "source": [
    "df.info()"
   ]
  },
  {
   "cell_type": "code",
   "execution_count": 12,
   "metadata": {},
   "outputs": [],
   "source": [
    "df_new = df.drop(columns=[\"gross(in $)\", \"certificate\"]).dropna(subset=[\"movie_name\", \"description\", \"director\"]).fillna(\"-\").drop_duplicates(subset=['movie_name', 'year', 'director'])"
   ]
  },
  {
   "cell_type": "code",
   "execution_count": 13,
   "metadata": {},
   "outputs": [
    {
     "name": "stdout",
     "output_type": "stream",
     "text": [
      "<class 'pandas.core.frame.DataFrame'>\n",
      "Index: 223589 entries, 0 to 368299\n",
      "Data columns (total 9 columns):\n",
      " #   Column       Non-Null Count   Dtype \n",
      "---  ------       --------------   ----- \n",
      " 0   movie_name   223589 non-null  object\n",
      " 1   year         223589 non-null  object\n",
      " 2   runtime      223589 non-null  object\n",
      " 3   genre        223589 non-null  object\n",
      " 4   rating       223589 non-null  object\n",
      " 5   description  223589 non-null  object\n",
      " 6   director     223589 non-null  object\n",
      " 7   star         223589 non-null  object\n",
      " 8   votes        223589 non-null  object\n",
      "dtypes: object(9)\n",
      "memory usage: 17.1+ MB\n"
     ]
    }
   ],
   "source": [
    "df_new.info()"
   ]
  },
  {
   "cell_type": "code",
   "execution_count": 14,
   "metadata": {},
   "outputs": [],
   "source": [
    "df_new.to_csv('../data/movies.csv', index=False)"
   ]
  }
 ],
 "metadata": {
  "kernelspec": {
   "display_name": "base",
   "language": "python",
   "name": "python3"
  },
  "language_info": {
   "codemirror_mode": {
    "name": "ipython",
    "version": 3
   },
   "file_extension": ".py",
   "mimetype": "text/x-python",
   "name": "python",
   "nbconvert_exporter": "python",
   "pygments_lexer": "ipython3",
   "version": "3.9.4"
  }
 },
 "nbformat": 4,
 "nbformat_minor": 2
}
